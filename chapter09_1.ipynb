{
 "cells": [
  {
   "cell_type": "markdown",
   "metadata": {},
   "source": [
    "# 09-1 순차 데이터와 순환 신경망\n",
    "\n",
    "## 순차 데이터\n",
    "## 순환 신경망\n",
    "## 셀의 가중치와 입출력"
   ]
  }
 ],
 "metadata": {
  "language_info": {
   "name": "python"
  }
 },
 "nbformat": 4,
 "nbformat_minor": 2
}
