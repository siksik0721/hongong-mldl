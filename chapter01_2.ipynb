{
 "cells": [
  {
   "cell_type": "markdown",
   "metadata": {},
   "source": [
    "# 01-2 코랩과 주피터 노트북\n",
    "\n",
    "## 구글 코랩\n",
    "## 텍스트 셀\n",
    "## 코드 셀\n",
    "## 노트북"
   ]
  }
 ],
 "metadata": {
  "language_info": {
   "name": "python"
  }
 },
 "nbformat": 4,
 "nbformat_minor": 2
}
